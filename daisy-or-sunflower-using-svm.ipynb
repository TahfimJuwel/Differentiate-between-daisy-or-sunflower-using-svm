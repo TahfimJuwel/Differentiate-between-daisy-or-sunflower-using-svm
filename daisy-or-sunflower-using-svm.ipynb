{
 "cells": [
  {
   "cell_type": "code",
   "execution_count": 1,
   "id": "8965d51c",
   "metadata": {
    "_cell_guid": "b1076dfc-b9ad-4769-8c92-a6c4dae69d19",
    "_uuid": "8f2839f25d086af736a60e9eeb907d3b93b6e0e5",
    "execution": {
     "iopub.execute_input": "2024-12-29T20:53:05.658454Z",
     "iopub.status.busy": "2024-12-29T20:53:05.658077Z",
     "iopub.status.idle": "2024-12-29T20:53:08.231836Z",
     "shell.execute_reply": "2024-12-29T20:53:08.231085Z"
    },
    "papermill": {
     "duration": 2.580343,
     "end_time": "2024-12-29T20:53:08.233609",
     "exception": false,
     "start_time": "2024-12-29T20:53:05.653266",
     "status": "completed"
    },
    "tags": []
   },
   "outputs": [],
   "source": [
    "import numpy as np \n",
    "import pandas as pd\n",
    "import matplotlib.pyplot as plt\n",
    "import os\n",
    "import cv2\n",
    "from sklearn import svm\n",
    "from sklearn.svm import SVC\n",
    "from sklearn.model_selection import GridSearchCV\n",
    "from sklearn.metrics import classification_report, accuracy_score, confusion_matrix, ConfusionMatrixDisplay\n",
    "from sklearn.preprocessing import LabelEncoder, StandardScaler\n",
    "from sklearn.model_selection import train_test_split"
   ]
  },
  {
   "cell_type": "markdown",
   "id": "8029a5e3",
   "metadata": {
    "papermill": {
     "duration": 0.003036,
     "end_time": "2024-12-29T20:53:08.240224",
     "exception": false,
     "start_time": "2024-12-29T20:53:08.237188",
     "status": "completed"
    },
    "tags": []
   },
   "source": [
    "# Load and Preprocess the Data"
   ]
  },
  {
   "cell_type": "code",
   "execution_count": 2,
   "id": "68a26669",
   "metadata": {
    "execution": {
     "iopub.execute_input": "2024-12-29T20:53:08.248704Z",
     "iopub.status.busy": "2024-12-29T20:53:08.248315Z",
     "iopub.status.idle": "2024-12-29T20:53:08.253622Z",
     "shell.execute_reply": "2024-12-29T20:53:08.252926Z"
    },
    "papermill": {
     "duration": 0.01096,
     "end_time": "2024-12-29T20:53:08.254916",
     "exception": false,
     "start_time": "2024-12-29T20:53:08.243956",
     "status": "completed"
    },
    "tags": []
   },
   "outputs": [],
   "source": [
    "def load_data(folder_path, img_size=(64, 64)):\n",
    "    labels = []\n",
    "    data = []\n",
    "    label_map = {\"daisy\": 0, \"sunflower\": 1}  # Map flower names to numeric labels\n",
    "\n",
    "    for label in label_map:\n",
    "        class_path = os.path.join(folder_path, label)\n",
    "        for img_name in os.listdir(class_path):\n",
    "            img_path = os.path.join(class_path, img_name)\n",
    "            img = cv2.imread(img_path, cv2.IMREAD_COLOR)  # Read image\n",
    "            if img is not None:\n",
    "                img = cv2.resize(img, img_size)  # Resize to uniform size\n",
    "                data.append(img.flatten())  # Flatten image to 1D array\n",
    "                labels.append(label_map[label])  # Store the label\n",
    "    \n",
    "    return np.array(data), np.array(labels)\n"
   ]
  },
  {
   "cell_type": "markdown",
   "id": "d1571da6",
   "metadata": {
    "papermill": {
     "duration": 0.002578,
     "end_time": "2024-12-29T20:53:08.260317",
     "exception": false,
     "start_time": "2024-12-29T20:53:08.257739",
     "status": "completed"
    },
    "tags": []
   },
   "source": [
    "#  Load Train and Test Data"
   ]
  },
  {
   "cell_type": "code",
   "execution_count": 3,
   "id": "b3261235",
   "metadata": {
    "execution": {
     "iopub.execute_input": "2024-12-29T20:53:08.266728Z",
     "iopub.status.busy": "2024-12-29T20:53:08.266483Z",
     "iopub.status.idle": "2024-12-29T20:53:12.663722Z",
     "shell.execute_reply": "2024-12-29T20:53:12.662696Z"
    },
    "papermill": {
     "duration": 4.402428,
     "end_time": "2024-12-29T20:53:12.665458",
     "exception": false,
     "start_time": "2024-12-29T20:53:08.263030",
     "status": "completed"
    },
    "tags": []
   },
   "outputs": [
    {
     "name": "stdout",
     "output_type": "stream",
     "text": [
      "Training Dataset Shape: (402, 12288) (402,)\n",
      "Testing Dataset Shape: (202, 12288) (202,)\n",
      "Predicting Dataset Shape: (101, 12288) (101,)\n"
     ]
    }
   ],
   "source": [
    "train_folder = \"/kaggle/input/daisy-vs-sunflower/train_data\"\n",
    "test_folder = \"/kaggle/input/daisy-vs-sunflower/test_data\"\n",
    "predict_folder = \"/kaggle/input/daisy-vs-sunflower/predict_data\"\n",
    "\n",
    "X_train, y_train = load_data(train_folder)\n",
    "X_test, y_test = load_data(test_folder)\n",
    "X_predict, y_predict = load_data(predict_folder)\n",
    "\n",
    "#Display the shape of the dataset\n",
    "print(\"Training Dataset Shape:\", X_train.shape, y_train.shape)\n",
    "print(\"Testing Dataset Shape:\", X_test.shape, y_test.shape)\n",
    "print(\"Predicting Dataset Shape:\", X_predict.shape, y_predict.shape)"
   ]
  },
  {
   "cell_type": "markdown",
   "id": "36992195",
   "metadata": {
    "papermill": {
     "duration": 0.00269,
     "end_time": "2024-12-29T20:53:12.671486",
     "exception": false,
     "start_time": "2024-12-29T20:53:12.668796",
     "status": "completed"
    },
    "tags": []
   },
   "source": [
    "# Normalize the Data"
   ]
  },
  {
   "cell_type": "code",
   "execution_count": 4,
   "id": "e92710b9",
   "metadata": {
    "execution": {
     "iopub.execute_input": "2024-12-29T20:53:12.678538Z",
     "iopub.status.busy": "2024-12-29T20:53:12.678240Z",
     "iopub.status.idle": "2024-12-29T20:53:12.702736Z",
     "shell.execute_reply": "2024-12-29T20:53:12.701719Z"
    },
    "papermill": {
     "duration": 0.030199,
     "end_time": "2024-12-29T20:53:12.704619",
     "exception": false,
     "start_time": "2024-12-29T20:53:12.674420",
     "status": "completed"
    },
    "tags": []
   },
   "outputs": [],
   "source": [
    "X_train = X_train / 255.0  # Scale pixel values to [0, 1]\n",
    "X_test = X_test / 255.0\n"
   ]
  },
  {
   "cell_type": "markdown",
   "id": "8a3fc818",
   "metadata": {
    "papermill": {
     "duration": 0.002802,
     "end_time": "2024-12-29T20:53:12.710769",
     "exception": false,
     "start_time": "2024-12-29T20:53:12.707967",
     "status": "completed"
    },
    "tags": []
   },
   "source": [
    "# Train the SVM Model"
   ]
  },
  {
   "cell_type": "code",
   "execution_count": 5,
   "id": "ca70aefb",
   "metadata": {
    "execution": {
     "iopub.execute_input": "2024-12-29T20:53:12.717587Z",
     "iopub.status.busy": "2024-12-29T20:53:12.717285Z",
     "iopub.status.idle": "2024-12-29T20:53:13.204679Z",
     "shell.execute_reply": "2024-12-29T20:53:13.201986Z"
    },
    "papermill": {
     "duration": 0.493202,
     "end_time": "2024-12-29T20:53:13.206868",
     "exception": false,
     "start_time": "2024-12-29T20:53:12.713666",
     "status": "completed"
    },
    "tags": []
   },
   "outputs": [
    {
     "data": {
      "text/html": [
       "<style>#sk-container-id-1 {color: black;background-color: white;}#sk-container-id-1 pre{padding: 0;}#sk-container-id-1 div.sk-toggleable {background-color: white;}#sk-container-id-1 label.sk-toggleable__label {cursor: pointer;display: block;width: 100%;margin-bottom: 0;padding: 0.3em;box-sizing: border-box;text-align: center;}#sk-container-id-1 label.sk-toggleable__label-arrow:before {content: \"▸\";float: left;margin-right: 0.25em;color: #696969;}#sk-container-id-1 label.sk-toggleable__label-arrow:hover:before {color: black;}#sk-container-id-1 div.sk-estimator:hover label.sk-toggleable__label-arrow:before {color: black;}#sk-container-id-1 div.sk-toggleable__content {max-height: 0;max-width: 0;overflow: hidden;text-align: left;background-color: #f0f8ff;}#sk-container-id-1 div.sk-toggleable__content pre {margin: 0.2em;color: black;border-radius: 0.25em;background-color: #f0f8ff;}#sk-container-id-1 input.sk-toggleable__control:checked~div.sk-toggleable__content {max-height: 200px;max-width: 100%;overflow: auto;}#sk-container-id-1 input.sk-toggleable__control:checked~label.sk-toggleable__label-arrow:before {content: \"▾\";}#sk-container-id-1 div.sk-estimator input.sk-toggleable__control:checked~label.sk-toggleable__label {background-color: #d4ebff;}#sk-container-id-1 div.sk-label input.sk-toggleable__control:checked~label.sk-toggleable__label {background-color: #d4ebff;}#sk-container-id-1 input.sk-hidden--visually {border: 0;clip: rect(1px 1px 1px 1px);clip: rect(1px, 1px, 1px, 1px);height: 1px;margin: -1px;overflow: hidden;padding: 0;position: absolute;width: 1px;}#sk-container-id-1 div.sk-estimator {font-family: monospace;background-color: #f0f8ff;border: 1px dotted black;border-radius: 0.25em;box-sizing: border-box;margin-bottom: 0.5em;}#sk-container-id-1 div.sk-estimator:hover {background-color: #d4ebff;}#sk-container-id-1 div.sk-parallel-item::after {content: \"\";width: 100%;border-bottom: 1px solid gray;flex-grow: 1;}#sk-container-id-1 div.sk-label:hover label.sk-toggleable__label {background-color: #d4ebff;}#sk-container-id-1 div.sk-serial::before {content: \"\";position: absolute;border-left: 1px solid gray;box-sizing: border-box;top: 0;bottom: 0;left: 50%;z-index: 0;}#sk-container-id-1 div.sk-serial {display: flex;flex-direction: column;align-items: center;background-color: white;padding-right: 0.2em;padding-left: 0.2em;position: relative;}#sk-container-id-1 div.sk-item {position: relative;z-index: 1;}#sk-container-id-1 div.sk-parallel {display: flex;align-items: stretch;justify-content: center;background-color: white;position: relative;}#sk-container-id-1 div.sk-item::before, #sk-container-id-1 div.sk-parallel-item::before {content: \"\";position: absolute;border-left: 1px solid gray;box-sizing: border-box;top: 0;bottom: 0;left: 50%;z-index: -1;}#sk-container-id-1 div.sk-parallel-item {display: flex;flex-direction: column;z-index: 1;position: relative;background-color: white;}#sk-container-id-1 div.sk-parallel-item:first-child::after {align-self: flex-end;width: 50%;}#sk-container-id-1 div.sk-parallel-item:last-child::after {align-self: flex-start;width: 50%;}#sk-container-id-1 div.sk-parallel-item:only-child::after {width: 0;}#sk-container-id-1 div.sk-dashed-wrapped {border: 1px dashed gray;margin: 0 0.4em 0.5em 0.4em;box-sizing: border-box;padding-bottom: 0.4em;background-color: white;}#sk-container-id-1 div.sk-label label {font-family: monospace;font-weight: bold;display: inline-block;line-height: 1.2em;}#sk-container-id-1 div.sk-label-container {text-align: center;}#sk-container-id-1 div.sk-container {/* jupyter's `normalize.less` sets `[hidden] { display: none; }` but bootstrap.min.css set `[hidden] { display: none !important; }` so we also need the `!important` here to be able to override the default hidden behavior on the sphinx rendered scikit-learn.org. See: https://github.com/scikit-learn/scikit-learn/issues/21755 */display: inline-block !important;position: relative;}#sk-container-id-1 div.sk-text-repr-fallback {display: none;}</style><div id=\"sk-container-id-1\" class=\"sk-top-container\"><div class=\"sk-text-repr-fallback\"><pre>SVC(C=0.001, kernel=&#x27;linear&#x27;, random_state=42)</pre><b>In a Jupyter environment, please rerun this cell to show the HTML representation or trust the notebook. <br />On GitHub, the HTML representation is unable to render, please try loading this page with nbviewer.org.</b></div><div class=\"sk-container\" hidden><div class=\"sk-item\"><div class=\"sk-estimator sk-toggleable\"><input class=\"sk-toggleable__control sk-hidden--visually\" id=\"sk-estimator-id-1\" type=\"checkbox\" checked><label for=\"sk-estimator-id-1\" class=\"sk-toggleable__label sk-toggleable__label-arrow\">SVC</label><div class=\"sk-toggleable__content\"><pre>SVC(C=0.001, kernel=&#x27;linear&#x27;, random_state=42)</pre></div></div></div></div></div>"
      ],
      "text/plain": [
       "SVC(C=0.001, kernel='linear', random_state=42)"
      ]
     },
     "execution_count": 5,
     "metadata": {},
     "output_type": "execute_result"
    }
   ],
   "source": [
    "svm_model = SVC(kernel='linear', C=.001, random_state=42)  # SVM model with linear kernel\n",
    "svm_model.fit(X_train, y_train)  # Training using the training data\n"
   ]
  },
  {
   "cell_type": "markdown",
   "id": "b5049715",
   "metadata": {
    "papermill": {
     "duration": 0.005648,
     "end_time": "2024-12-29T20:53:13.218857",
     "exception": false,
     "start_time": "2024-12-29T20:53:13.213209",
     "status": "completed"
    },
    "tags": []
   },
   "source": [
    "#  Make Predictions"
   ]
  },
  {
   "cell_type": "code",
   "execution_count": 6,
   "id": "1dcec0f2",
   "metadata": {
    "execution": {
     "iopub.execute_input": "2024-12-29T20:53:13.231935Z",
     "iopub.status.busy": "2024-12-29T20:53:13.231550Z",
     "iopub.status.idle": "2024-12-29T20:53:13.788591Z",
     "shell.execute_reply": "2024-12-29T20:53:13.787678Z"
    },
    "papermill": {
     "duration": 0.56626,
     "end_time": "2024-12-29T20:53:13.790960",
     "exception": false,
     "start_time": "2024-12-29T20:53:13.224700",
     "status": "completed"
    },
    "tags": []
   },
   "outputs": [],
   "source": [
    "y_test_pred = svm_model.predict(X_test)  # Predict labels for test data\n",
    "#print(\"Predicted labels:\", y_pred)\n",
    "y_train_pred = svm_model.predict(X_train)"
   ]
  },
  {
   "cell_type": "markdown",
   "id": "8690ea39",
   "metadata": {
    "papermill": {
     "duration": 0.005319,
     "end_time": "2024-12-29T20:53:13.802522",
     "exception": false,
     "start_time": "2024-12-29T20:53:13.797203",
     "status": "completed"
    },
    "tags": []
   },
   "source": [
    "# Evaluate the Model"
   ]
  },
  {
   "cell_type": "code",
   "execution_count": 7,
   "id": "75ca3772",
   "metadata": {
    "execution": {
     "iopub.execute_input": "2024-12-29T20:53:13.814582Z",
     "iopub.status.busy": "2024-12-29T20:53:13.814227Z",
     "iopub.status.idle": "2024-12-29T20:53:13.825573Z",
     "shell.execute_reply": "2024-12-29T20:53:13.823885Z"
    },
    "papermill": {
     "duration": 0.020019,
     "end_time": "2024-12-29T20:53:13.827859",
     "exception": false,
     "start_time": "2024-12-29T20:53:13.807840",
     "status": "completed"
    },
    "tags": []
   },
   "outputs": [
    {
     "name": "stdout",
     "output_type": "stream",
     "text": [
      "Test Accuracy: 85.64%\n",
      "Training Accuracy: 88.56%\n",
      "Confusion Matrix:\n",
      "[[91 10]\n",
      " [19 82]]\n"
     ]
    }
   ],
   "source": [
    "test_accuracy = accuracy_score(y_test, y_test_pred)  # Calculate accuracy\n",
    "train_accuracy = accuracy_score(y_train, y_train_pred)\n",
    "\n",
    "conf_matrix = confusion_matrix(y_test, y_test_pred)  # Generate confusion matrix\n",
    "\n",
    "\n",
    "print(f\"Test Accuracy: {test_accuracy * 100:.2f}%\")  \n",
    "print(f\"Training Accuracy: {train_accuracy * 100:.2f}%\")\n",
    "print(\"Confusion Matrix:\")\n",
    "print(conf_matrix)\n"
   ]
  },
  {
   "cell_type": "markdown",
   "id": "a83c9661",
   "metadata": {
    "papermill": {
     "duration": 0.005706,
     "end_time": "2024-12-29T20:53:13.839884",
     "exception": false,
     "start_time": "2024-12-29T20:53:13.834178",
     "status": "completed"
    },
    "tags": []
   },
   "source": [
    "# Visualize the Confusion Matrix"
   ]
  },
  {
   "cell_type": "code",
   "execution_count": 8,
   "id": "48b0371d",
   "metadata": {
    "execution": {
     "iopub.execute_input": "2024-12-29T20:53:13.853552Z",
     "iopub.status.busy": "2024-12-29T20:53:13.853130Z",
     "iopub.status.idle": "2024-12-29T20:53:14.179692Z",
     "shell.execute_reply": "2024-12-29T20:53:14.178755Z"
    },
    "papermill": {
     "duration": 0.335144,
     "end_time": "2024-12-29T20:53:14.181177",
     "exception": false,
     "start_time": "2024-12-29T20:53:13.846033",
     "status": "completed"
    },
    "tags": []
   },
   "outputs": [
    {
     "data": {
      "image/png": "[encoded data removed]",
      "text/plain": [
       "<Figure size 640x480 with 2 Axes>"
      ]
     },
     "metadata": {},
     "output_type": "display_data"
    }
   ],
   "source": [
    "# Display the confusion matrix\n",
    "disp = ConfusionMatrixDisplay(confusion_matrix=conf_matrix, display_labels=[\"Daisy\", \"Sunflower\"])\n",
    "disp.plot(cmap='viridis')\n",
    "plt.title(\"Confusion Matrix\")\n",
    "plt.show()"
   ]
  },
  {
   "cell_type": "code",
   "execution_count": 9,
   "id": "7ef9f21a",
   "metadata": {
    "execution": {
     "iopub.execute_input": "2024-12-29T20:53:14.189892Z",
     "iopub.status.busy": "2024-12-29T20:53:14.189600Z",
     "iopub.status.idle": "2024-12-29T20:53:14.328879Z",
     "shell.execute_reply": "2024-12-29T20:53:14.327745Z"
    },
    "papermill": {
     "duration": 0.145203,
     "end_time": "2024-12-29T20:53:14.330295",
     "exception": true,
     "start_time": "2024-12-29T20:53:14.185092",
     "status": "failed"
    },
    "tags": []
   },
   "outputs": [
    {
     "ename": "NameError",
     "evalue": "name 'y_pred' is not defined",
     "output_type": "error",
     "traceback": [
      "\u001b[0;31m---------------------------------------------------------------------------\u001b[0m",
      "\u001b[0;31mNameError\u001b[0m                                 Traceback (most recent call last)",
      "\u001b[0;32m<ipython-input-9-e7622b950e3d>\u001b[0m in \u001b[0;36m<cell line: 1>\u001b[0;34m()\u001b[0m\n\u001b[0;32m----> 1\u001b[0;31m \u001b[0mprint\u001b[0m\u001b[0;34m(\u001b[0m\u001b[0mclassification_report\u001b[0m\u001b[0;34m(\u001b[0m\u001b[0my_test\u001b[0m\u001b[0;34m,\u001b[0m \u001b[0my_pred\u001b[0m\u001b[0;34m)\u001b[0m\u001b[0;34m)\u001b[0m\u001b[0;34m\u001b[0m\u001b[0;34m\u001b[0m\u001b[0m\n\u001b[0m",
      "\u001b[0;31mNameError\u001b[0m: name 'y_pred' is not defined"
     ]
    }
   ],
   "source": [
    "print(classification_report(y_test, y_pred))"
   ]
  }
 ],
 "metadata": {
  "kaggle": {
   "accelerator": "nvidiaTeslaT4",
   "dataSources": [
    {
     "datasetId": 1729601,
     "sourceId": 2827782,
     "sourceType": "datasetVersion"
    }
   ],
   "dockerImageVersionId": 30822,
   "isGpuEnabled": true,
   "isInternetEnabled": true,
   "language": "python",
   "sourceType": "notebook"
  },
  "kernelspec": {
   "display_name": "Python 3",
   "language": "python",
   "name": "python3"
  },
  "language_info": {
   "codemirror_mode": {
    "name": "ipython",
    "version": 3
   },
   "file_extension": ".py",
   "mimetype": "text/x-python",
   "name": "python",
   "nbconvert_exporter": "python",
   "pygments_lexer": "ipython3",
   "version": "3.10.12"
  },
  "papermill": {
   "default_parameters": {},
   "duration": 11.862871,
   "end_time": "2024-12-29T20:53:14.954318",
   "environment_variables": {},
   "exception": true,
   "input_path": "__notebook__.ipynb",
   "output_path": "__notebook__.ipynb",
   "parameters": {},
   "start_time": "2024-12-29T20:53:03.091447",
   "version": "2.6.0"
  }
 },
 "nbformat": 4,
 "nbformat_minor": 5
}
